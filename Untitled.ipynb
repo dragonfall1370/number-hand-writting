{
 "cells": [
  {
   "cell_type": "code",
   "execution_count": 6,
   "metadata": {},
   "outputs": [],
   "source": [
    "import warnings\n",
    "warnings.filterwarnings(\"ignore\", category=DeprecationWarning)\n",
    "import os\n",
    "os.environ['TF_CPP_MIN_LOG_LEVEL'] = '2'"
   ]
  },
  {
   "cell_type": "code",
   "execution_count": 7,
   "metadata": {},
   "outputs": [
    {
     "name": "stdout",
     "output_type": "stream",
     "text": [
      "2.5.0\n",
      "Num GPUs Available:  1\n"
     ]
    }
   ],
   "source": [
    "import tensorflow as tf\n",
    "print(tf.__version__)\n",
    "mnist = tf.keras.datasets.mnist #28x28 images of hand-written digits 0-9\n",
    "(x_train, y_train), (x_test, y_test) = mnist.load_data()\n",
    "\n",
    "print(\"Num GPUs Available: \", len(tf.config.list_physical_devices('GPU')))\n",
    "from tensorflow.python.client import device_lib\n",
    "\n"
   ]
  },
  {
   "cell_type": "code",
   "execution_count": 8,
   "metadata": {},
   "outputs": [],
   "source": [
    "gpu_devices = tf.config.experimental.list_physical_devices('GPU')\n",
    "for device in gpu_devices:\n",
    "    tf.config.experimental.set_memory_growth(device, True)\n"
   ]
  },
  {
   "cell_type": "code",
   "execution_count": 9,
   "metadata": {},
   "outputs": [
    {
     "data": {
      "image/png": "[encoded data removed]",
      "text/plain": [
       "<Figure size 432x288 with 1 Axes>"
      ]
     },
     "metadata": {
      "needs_background": "light"
     },
     "output_type": "display_data"
    },
    {
     "name": "stdout",
     "output_type": "stream",
     "text": [
      "2\n"
     ]
    }
   ],
   "source": [
    "import matplotlib.pyplot as plt\n",
    "plt.imshow(x_train[5])\n",
    "plt.show()\n",
    "\n",
    "print(y_train[5])"
   ]
  },
  {
   "cell_type": "code",
   "execution_count": 10,
   "metadata": {
    "scrolled": true
   },
   "outputs": [
    {
     "name": "stdout",
     "output_type": "stream",
     "text": [
      "Epoch 1/20\n",
      "1875/1875 [==============================] - 1s 642us/step - loss: 0.2641 - accuracy: 0.9222\n",
      "Epoch 2/20\n",
      "1875/1875 [==============================] - 1s 645us/step - loss: 0.1058 - accuracy: 0.9671\n",
      "Epoch 3/20\n",
      "1875/1875 [==============================] - 1s 649us/step - loss: 0.0716 - accuracy: 0.9777\n",
      "Epoch 4/20\n",
      "1875/1875 [==============================] - 1s 705us/step - loss: 0.0533 - accuracy: 0.9828\n",
      "Epoch 5/20\n",
      "1875/1875 [==============================] - 1s 642us/step - loss: 0.0396 - accuracy: 0.9873\n",
      "Epoch 6/20\n",
      "1875/1875 [==============================] - 1s 640us/step - loss: 0.0307 - accuracy: 0.9900\n",
      "Epoch 7/20\n",
      "1875/1875 [==============================] - 1s 641us/step - loss: 0.0248 - accuracy: 0.99170s - loss: 0.0240 - accuracy\n",
      "Epoch 8/20\n",
      "1875/1875 [==============================] - 1s 636us/step - loss: 0.0203 - accuracy: 0.9930\n",
      "Epoch 9/20\n",
      "1875/1875 [==============================] - 1s 638us/step - loss: 0.0166 - accuracy: 0.9945\n",
      "Epoch 10/20\n",
      "1875/1875 [==============================] - 1s 645us/step - loss: 0.0154 - accuracy: 0.9944\n",
      "Epoch 11/20\n",
      "1875/1875 [==============================] - 1s 639us/step - loss: 0.0126 - accuracy: 0.9954\n",
      "Epoch 12/20\n",
      "1875/1875 [==============================] - 1s 650us/step - loss: 0.0135 - accuracy: 0.9954\n",
      "Epoch 13/20\n",
      "1875/1875 [==============================] - 1s 647us/step - loss: 0.0094 - accuracy: 0.9967\n",
      "Epoch 14/20\n",
      "1875/1875 [==============================] - 1s 647us/step - loss: 0.0105 - accuracy: 0.9963\n",
      "Epoch 15/20\n",
      "1875/1875 [==============================] - 1s 643us/step - loss: 0.0103 - accuracy: 0.9966\n",
      "Epoch 16/20\n",
      "1875/1875 [==============================] - 1s 639us/step - loss: 0.0090 - accuracy: 0.9970\n",
      "Epoch 17/20\n",
      "1875/1875 [==============================] - 1s 645us/step - loss: 0.0093 - accuracy: 0.9972\n",
      "Epoch 18/20\n",
      "1875/1875 [==============================] - 1s 645us/step - loss: 0.0079 - accuracy: 0.9972\n",
      "Epoch 19/20\n",
      "1875/1875 [==============================] - 1s 645us/step - loss: 0.0077 - accuracy: 0.9974\n",
      "Epoch 20/20\n",
      "1875/1875 [==============================] - 1s 649us/step - loss: 0.0079 - accuracy: 0.9976\n",
      "313/313 [==============================] - 0s 614us/step - loss: 0.1554 - accuracy: 0.9764\n",
      "0.15536215901374817 0.9764000177383423\n"
     ]
    }
   ],
   "source": [
    "x_train = tf.keras.utils.normalize(x_train, axis = 1)\n",
    "x_test = tf.keras.utils.normalize(x_test, axis= 1)\n",
    "\n",
    "model = tf.keras.models.Sequential()\n",
    "model.add(tf.keras.layers.Flatten())\n",
    "\n",
    "model.add(tf.keras.layers.Dense(128, activation = tf.nn.relu))\n",
    "model.add(tf.keras.layers.Dense(128, activation = tf.nn.relu))\n",
    "model.add(tf.keras.layers.Dense(10, activation = tf.nn.softmax))\n",
    "\n",
    "\n",
    "model.compile(optimizer = 'adam',\n",
    "              loss = 'sparse_categorical_crossentropy',\n",
    "              metrics = ['accuracy'])\n",
    "\n",
    "model.fit(x_train, y_train, epochs=20)\n",
    "\n",
    "val_loss, val_acc = model.evaluate(x_test, y_test)\n",
    "print(val_loss, val_acc)"
   ]
  },
  {
   "cell_type": "code",
   "execution_count": null,
   "metadata": {},
   "outputs": [],
   "source": [
    "predictions = model.predict([x_test])\n",
    "                              \n",
    "import numpy as np\n",
    "\n",
    "print(np.argmax(predictions[13]))\n",
    "print(y_test[13])\n",
    "\n",
    "import matplotlib.pyplot as plt\n",
    "plt.imshow(x_test[13])\n",
    "plt.show()"
   ]
  },
  {
   "cell_type": "code",
   "execution_count": null,
   "metadata": {},
   "outputs": [],
   "source": []
  }
 ],
 "metadata": {
  "kernelspec": {
   "display_name": "Python 3 (ipykernel)",
   "language": "python",
   "name": "python3"
  },
  "language_info": {
   "codemirror_mode": {
    "name": "ipython",
    "version": 3
   },
   "file_extension": ".py",
   "mimetype": "text/x-python",
   "name": "python",
   "nbconvert_exporter": "python",
   "pygments_lexer": "ipython3",
   "version": "3.8.10"
  }
 },
 "nbformat": 4,
 "nbformat_minor": 4
}
